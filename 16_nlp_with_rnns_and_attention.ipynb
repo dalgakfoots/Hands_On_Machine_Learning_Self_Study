{
  "nbformat": 4,
  "nbformat_minor": 0,
  "metadata": {
    "colab": {
      "name": "16_nlp_with_rnns_and_attention.ipynb",
      "provenance": [],
      "collapsed_sections": []
    },
    "kernelspec": {
      "name": "python3",
      "display_name": "Python 3"
    },
    "accelerator": "GPU"
  },
  "cells": [
    {
      "cell_type": "markdown",
      "metadata": {
        "id": "fKdxDFdD_X9a"
      },
      "source": [
        "## Char-RNN 을 사용해 셰익스피어 문체 생성하기"
      ]
    },
    {
      "cell_type": "markdown",
      "metadata": {
        "id": "sd-1hf8k_f23"
      },
      "source": [
        "### 훈련 데이터셋 만들기"
      ]
    },
    {
      "cell_type": "code",
      "metadata": {
        "id": "lCy3ZDha_n--"
      },
      "source": [
        "import tensorflow as tf\r\n",
        "from tensorflow import keras"
      ],
      "execution_count": 1,
      "outputs": []
    },
    {
      "cell_type": "code",
      "metadata": {
        "colab": {
          "base_uri": "https://localhost:8080/"
        },
        "id": "HKk6nceZ-0qk",
        "outputId": "d8e6fd15-c15c-4b29-9601-8c2632bbb909"
      },
      "source": [
        "shakespeare_url = 'https://homl.info/shakespeare'\r\n",
        "filepath = keras.utils.get_file('shakespeare.txt',shakespeare_url)\r\n",
        "with open(filepath) as f:\r\n",
        "    shakespeare__text = f.read()\r\n",
        "\r\n",
        "# 셰익스피어 작품을 모두 다운로드"
      ],
      "execution_count": 2,
      "outputs": [
        {
          "output_type": "stream",
          "text": [
            "Downloading data from https://homl.info/shakespeare\n",
            "1122304/1115394 [==============================] - 0s 0us/step\n"
          ],
          "name": "stdout"
        }
      ]
    },
    {
      "cell_type": "code",
      "metadata": {
        "id": "C9x0gfDs_2b4"
      },
      "source": [
        "tokenizer = keras.preprocessing.text.Tokenizer(char_level=True) # 단어 수준 인코딩 대신 글자 수준 인코딩을 만든다\r\n",
        "tokenizer.fit_on_texts(shakespeare__text)\r\n",
        "# 모든 글자를 정수로 인코딩\r\n",
        "\r\n",
        "# 텍스트에서 사용되는 모든 글자를 찾아 각기 다른 글자 ID에 매핑한다.\r\n",
        "# (이 ID는 1부터 시작해 고유한 글자 개수까지 만들어진다.)"
      ],
      "execution_count": 3,
      "outputs": []
    },
    {
      "cell_type": "code",
      "metadata": {
        "colab": {
          "base_uri": "https://localhost:8080/"
        },
        "id": "E-1bxSoBAD8B",
        "outputId": "127c81ea-95f1-4f4e-ab32-1494718821c3"
      },
      "source": [
        "tokenizer.texts_to_sequences(['First'])"
      ],
      "execution_count": 4,
      "outputs": [
        {
          "output_type": "execute_result",
          "data": {
            "text/plain": [
              "[[20, 6, 9, 8, 3]]"
            ]
          },
          "metadata": {
            "tags": []
          },
          "execution_count": 4
        }
      ]
    },
    {
      "cell_type": "code",
      "metadata": {
        "colab": {
          "base_uri": "https://localhost:8080/"
        },
        "id": "UP3fTuUDAeyo",
        "outputId": "88417bea-77be-4d76-b45c-a6d5b3edb859"
      },
      "source": [
        "tokenizer.sequences_to_texts([[20, 6, 9, 8, 3]])"
      ],
      "execution_count": 5,
      "outputs": [
        {
          "output_type": "execute_result",
          "data": {
            "text/plain": [
              "['f i r s t']"
            ]
          },
          "metadata": {
            "tags": []
          },
          "execution_count": 5
        }
      ]
    },
    {
      "cell_type": "code",
      "metadata": {
        "colab": {
          "base_uri": "https://localhost:8080/"
        },
        "id": "muHOWptXAjPp",
        "outputId": "08aa5722-8ed1-4958-bea2-d6f1da8c26fe"
      },
      "source": [
        "max_id = len(tokenizer.word_index) # 고유 글자 갯수\r\n",
        "print(max_id)\r\n",
        "dataset_size = tokenizer.document_count # 전체 글자 갯수\r\n",
        "print(dataset_size)"
      ],
      "execution_count": 6,
      "outputs": [
        {
          "output_type": "stream",
          "text": [
            "39\n",
            "1115394\n"
          ],
          "name": "stdout"
        }
      ]
    },
    {
      "cell_type": "code",
      "metadata": {
        "id": "VLvmm6BFApN5"
      },
      "source": [
        "import numpy as np\r\n",
        "\r\n",
        "[encoded] = np.array(tokenizer.texts_to_sequences([shakespeare__text])) - 1\r\n",
        "# 각 글자의 ID는 1~39로 되어있기 때문에 1을 뺀다."
      ],
      "execution_count": 7,
      "outputs": []
    },
    {
      "cell_type": "code",
      "metadata": {
        "id": "bhhhOZmCA5pY"
      },
      "source": [
        "train_size = dataset_size * 90 // 100\r\n",
        "dataset = tf.data.Dataset.from_tensor_slices(encoded[:train_size])"
      ],
      "execution_count": 8,
      "outputs": []
    },
    {
      "cell_type": "code",
      "metadata": {
        "id": "Wc_hOjK_DoVp"
      },
      "source": [
        "n_steps =100\r\n",
        "window_length = n_steps + 1\r\n",
        "dataset = dataset.window(window_length , shift = 1, drop_remainder=True)\r\n",
        "# shift = 1 => 0 ~ 100 / 1~ 101 ...\r\n",
        "# drop_remainder 가 False 라면 => 100개 / 99개 / 98개 ...\r\n",
        "\r\n",
        "# window() 메서드를 사용해 긴 시퀀스를 작은 많은 텍스트 윈도로 변환한다.\r\n"
      ],
      "execution_count": 9,
      "outputs": []
    },
    {
      "cell_type": "code",
      "metadata": {
        "id": "eNUKyoZvEQSZ"
      },
      "source": [
        "dataset = dataset.flat_map(lambda window : window.batch(window_length))\r\n",
        "# 중첩 데이터셋을 플랫 데이터셋으로 변환하는 flat_map()메서드를 호출.\r\n",
        "# 평평하게 만들기 전에 각 데이터셋에 적용할 변환함수를 파라미터로 받는다."
      ],
      "execution_count": 10,
      "outputs": []
    },
    {
      "cell_type": "code",
      "metadata": {
        "id": "9nbkmXfCEvjI"
      },
      "source": [
        "batch_size = 32\r\n",
        "dataset = dataset.shuffle(10000).batch(batch_size)\r\n",
        "dataset = dataset.map(lambda windows : (windows[:, :-1] , windows[:, 1:]))\r\n",
        "# 입력과 타겟을 분리"
      ],
      "execution_count": 11,
      "outputs": []
    },
    {
      "cell_type": "markdown",
      "metadata": {
        "id": "KIbqkuVpFCJB"
      },
      "source": [
        "![image.png](data:image/png;base64,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)"
      ]
    },
    {
      "cell_type": "code",
      "metadata": {
        "id": "PisEOH1gJFoQ"
      },
      "source": [
        "dataset = dataset.map(\r\n",
        "    lambda X_batch, Y_batch : (tf.one_hot(X_batch, depth = max_id), Y_batch))"
      ],
      "execution_count": 12,
      "outputs": []
    },
    {
      "cell_type": "code",
      "metadata": {
        "id": "nph0M0XlJXNX"
      },
      "source": [
        "dataset= dataset.prefetch(1)"
      ],
      "execution_count": 13,
      "outputs": []
    },
    {
      "cell_type": "markdown",
      "metadata": {
        "id": "nDqUp-TkJ_kg"
      },
      "source": [
        "### Char-RNN 모델 만들고 훈련하기"
      ]
    },
    {
      "cell_type": "code",
      "metadata": {
        "colab": {
          "base_uri": "https://localhost:8080/"
        },
        "id": "hOi7pkEkJgg_",
        "outputId": "8ffd46f1-07d6-49db-da7f-166792d329a4"
      },
      "source": [
        "model = keras.models.Sequential([\r\n",
        "    keras.layers.GRU(128, return_sequences=True, input_shape=[None, max_id],\r\n",
        "                     dropout=0.2), #recurrent_dropout=0.2),\r\n",
        "    keras.layers.GRU(128, return_sequences=True,\r\n",
        "                     dropout=0.2), #recurrent_dropout=0.2),\r\n",
        "    keras.layers.TimeDistributed(keras.layers.Dense(max_id,\r\n",
        "                                                    activation=\"softmax\"))\r\n",
        "    # 텍스트에 있는 고유 글자수가 39개 이므로 이 층은 39개의 유닛을 가져야 한다.\r\n",
        "    # 타임 스텝에서 출력 확률의 합을 1로 하기 위해서 소프트맥스 함수를 적용한다.\r\n",
        "])\r\n",
        "model.compile(loss=\"sparse_categorical_crossentropy\", optimizer=\"adam\")\r\n",
        "history = model.fit(dataset, steps_per_epoch=train_size // batch_size,\r\n",
        "                    epochs=1)"
      ],
      "execution_count": 15,
      "outputs": [
        {
          "output_type": "stream",
          "text": [
            "31366/31370 [============================>.] - ETA: 0s - loss: 1.7230WARNING:tensorflow:Your input ran out of data; interrupting training. Make sure that your dataset or generator can generate at least `steps_per_epoch * epochs` batches (in this case, 31370 batches). You may need to use the repeat() function when building your dataset.\n",
            "31370/31370 [==============================] - 337s 11ms/step - loss: 1.7230\n"
          ],
          "name": "stdout"
        }
      ]
    },
    {
      "cell_type": "markdown",
      "metadata": {
        "id": "oUSotPwpQDcg"
      },
      "source": [
        "### Char_RNN 모델 사용하기"
      ]
    },
    {
      "cell_type": "code",
      "metadata": {
        "id": "6qlX9g5OKDnQ"
      },
      "source": [
        "def preprocess(texts):\r\n",
        "    X = np.array(tokenizer.texts_to_sequences(texts)) - 1\r\n",
        "    return tf.one_hot(X, max_id)"
      ],
      "execution_count": 16,
      "outputs": []
    },
    {
      "cell_type": "code",
      "metadata": {
        "colab": {
          "base_uri": "https://localhost:8080/",
          "height": 91
        },
        "id": "YpPJHeQ-QM-2",
        "outputId": "79f931b9-9520-445a-aad4-9d5141e6b0f3"
      },
      "source": [
        "X_new = preprocess(['how are yo'])\r\n",
        "Y_pred = model.predict_classes(X_new)\r\n",
        "tokenizer.sequences_to_texts(Y_pred +1)[0][-1]"
      ],
      "execution_count": 20,
      "outputs": [
        {
          "output_type": "stream",
          "text": [
            "/usr/local/lib/python3.6/dist-packages/tensorflow/python/keras/engine/sequential.py:450: UserWarning: `model.predict_classes()` is deprecated and will be removed after 2021-01-01. Please use instead:* `np.argmax(model.predict(x), axis=-1)`,   if your model does multi-class classification   (e.g. if it uses a `softmax` last-layer activation).* `(model.predict(x) > 0.5).astype(\"int32\")`,   if your model does binary classification   (e.g. if it uses a `sigmoid` last-layer activation).\n",
            "  warnings.warn('`model.predict_classes()` is deprecated and '\n"
          ],
          "name": "stderr"
        },
        {
          "output_type": "execute_result",
          "data": {
            "application/vnd.google.colaboratory.intrinsic+json": {
              "type": "string"
            },
            "text/plain": [
              "'u'"
            ]
          },
          "metadata": {
            "tags": []
          },
          "execution_count": 20
        }
      ]
    },
    {
      "cell_type": "markdown",
      "metadata": {
        "id": "uDyFCC0ARk-_"
      },
      "source": [
        "### 가짜 셰익스피어 텍스트를 생성하기"
      ]
    },
    {
      "cell_type": "code",
      "metadata": {
        "id": "tqqVEpKnRbV_"
      },
      "source": [
        "def next_char(text, temperature =1):\r\n",
        "    X_new = preprocess([text])\r\n",
        "    y_proba = model.predict(X_new)[0, -1:, :]\r\n",
        "    rescaled_logits = tf.math.log(y_proba) / temperature\r\n",
        "    # 온도가 0에 가까울 수록 높은 확률을 가진 글자를 선택한다.\r\n",
        "    char_id = tf.random.categorical(rescaled_logits , num_samples=1) + 1\r\n",
        "    # 모델이 추정한 확률을 기반으로 다음 글자를 무작위로 선택한다.\r\n",
        "    return tokenizer.sequences_to_texts(char_id.numpy())[0]"
      ],
      "execution_count": 24,
      "outputs": []
    },
    {
      "cell_type": "code",
      "metadata": {
        "id": "RlH47EmdSGgH"
      },
      "source": [
        "def complete_text(text, n_chars = 50 , temperature = 1):\r\n",
        "    for _ in range(n_chars):\r\n",
        "        text += next_char(text, temperature)\r\n",
        "    return text"
      ],
      "execution_count": 25,
      "outputs": []
    },
    {
      "cell_type": "code",
      "metadata": {
        "colab": {
          "base_uri": "https://localhost:8080/"
        },
        "id": "YvoWy5B3SQwv",
        "outputId": "04ccfb2c-c693-4431-be94-ce4f2f836921"
      },
      "source": [
        "print(complete_text('t', temperature=0.2))"
      ],
      "execution_count": 26,
      "outputs": [
        {
          "output_type": "stream",
          "text": [
            "the curst and signior gremio.\n",
            "\n",
            "gremio:\n",
            "o the mottor\n"
          ],
          "name": "stdout"
        }
      ]
    },
    {
      "cell_type": "code",
      "metadata": {
        "colab": {
          "base_uri": "https://localhost:8080/"
        },
        "id": "DtK7Fw1TSTS2",
        "outputId": "43eb8e39-c35b-4694-b7f6-0b55d49b16ad"
      },
      "source": [
        "print(complete_text('w', temperature=1))"
      ],
      "execution_count": 27,
      "outputs": [
        {
          "output_type": "stream",
          "text": [
            "ws:\n",
            "if you heve with mace he curst as, 'binner, bel\n"
          ],
          "name": "stdout"
        }
      ]
    },
    {
      "cell_type": "code",
      "metadata": {
        "colab": {
          "base_uri": "https://localhost:8080/"
        },
        "id": "s_5A1BXuSb1e",
        "outputId": "2c9e9ce9-5cd3-461b-e9b5-751b7c797573"
      },
      "source": [
        "print(complete_text('w', temperature=2))"
      ],
      "execution_count": 28,
      "outputs": [
        {
          "output_type": "stream",
          "text": [
            "wirs, no? kate'romet. ope, asly.'we,,ilep,s\n",
            "ayy.fti\n"
          ],
          "name": "stdout"
        }
      ]
    },
    {
      "cell_type": "markdown",
      "metadata": {
        "id": "_W4ovxKKTMkv"
      },
      "source": [
        "### 상태가 있는 RNN"
      ]
    },
    {
      "cell_type": "code",
      "metadata": {
        "id": "Z6wuzo5OSfLa"
      },
      "source": [
        "# 마지막 상태를 다음 훈련 배치의 초기 상태로 사용한다.\r\n",
        "\r\n",
        "dataset = tf.data.Dataset.from_tensor_slices(encoded[:train_size])\r\n",
        "dataset = dataset.window(window_length, shift=n_steps, drop_remainder=True)\r\n",
        "dataset = dataset.flat_map(lambda window : window.batch(window_length))\r\n",
        "dataset = dataset.batch(1)\r\n",
        "dataset = dataset.map(lambda windows : (windows[:, : -1], windows[:, 1:]))\r\n",
        "dataset = dataset.map(\r\n",
        "    lambda X_batch, Y_batch : (tf.one_hot(X_batch, depth = max_id), Y_batch)\r\n",
        ")\r\n",
        "dataset = dataset.prefetch(1)"
      ],
      "execution_count": 29,
      "outputs": []
    },
    {
      "cell_type": "markdown",
      "metadata": {
        "id": "WqrKxhVdT-m_"
      },
      "source": [
        "![image.png](data:image/png;base64,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)"
      ]
    },
    {
      "cell_type": "code",
      "metadata": {
        "id": "E3QRkpiHT8rw"
      },
      "source": [
        "batch_size = 32\r\n",
        "encoded_parts = np.array_split(encoded[:train_size], batch_size)\r\n",
        "datasets = []\r\n",
        "for encoded_part in encoded_parts:\r\n",
        "    dataset = tf.data.Dataset.from_tensor_slices(encoded_part)\r\n",
        "    dataset = dataset.window(window_length, shift=n_steps, drop_remainder=True)\r\n",
        "    dataset = dataset.flat_map(lambda window: window.batch(window_length))\r\n",
        "    datasets.append(dataset)\r\n",
        "dataset = tf.data.Dataset.zip(tuple(datasets)).map(lambda *windows: tf.stack(windows))\r\n",
        "dataset = dataset.repeat().map(lambda windows: (windows[:, :-1], windows[:, 1:]))\r\n",
        "dataset = dataset.map(\r\n",
        "    lambda X_batch, Y_batch: (tf.one_hot(X_batch, depth=max_id), Y_batch))\r\n",
        "dataset = dataset.prefetch(1)"
      ],
      "execution_count": 30,
      "outputs": []
    },
    {
      "cell_type": "code",
      "metadata": {
        "id": "Aw8HQ3HDUX3P"
      },
      "source": [
        "model = keras.models.Sequential([\r\n",
        "    keras.layers.GRU(128, return_sequences=True, stateful=True, # 마지막 상태 전달\r\n",
        "                     dropout=0.2, #recurrent_dropout=0.2,\r\n",
        "                     batch_input_shape=[batch_size, None, max_id]),\r\n",
        "                     #배치에 있는 입력 시퀀스의 상태를 보존하기 위해 input shape 지정\r\n",
        "    keras.layers.GRU(128, return_sequences=True, stateful=True,\r\n",
        "                     dropout=0.2), #recurrent_dropout=0.2),\r\n",
        "    keras.layers.TimeDistributed(keras.layers.Dense(max_id,\r\n",
        "                                                    activation=\"softmax\"))\r\n",
        "])"
      ],
      "execution_count": 31,
      "outputs": []
    },
    {
      "cell_type": "code",
      "metadata": {
        "id": "IAQn7c3VVK4A"
      },
      "source": [
        "class ResetStatesCallback(keras.callbacks.Callback):\r\n",
        "    def on_epoch_begin(self, epoch, logs):\r\n",
        "        self.model.reset_states()"
      ],
      "execution_count": 32,
      "outputs": []
    },
    {
      "cell_type": "code",
      "metadata": {
        "colab": {
          "base_uri": "https://localhost:8080/"
        },
        "id": "HPDHwBwOVS2G",
        "outputId": "51d15463-cca8-41bc-c044-fb88acd19410"
      },
      "source": [
        "model.compile(loss=\"sparse_categorical_crossentropy\", optimizer=\"adam\")\r\n",
        "steps_per_epoch = train_size // batch_size // n_steps\r\n",
        "history = model.fit(dataset, steps_per_epoch=steps_per_epoch, epochs=50,\r\n",
        "                    callbacks=[ResetStatesCallback()])"
      ],
      "execution_count": 33,
      "outputs": [
        {
          "output_type": "stream",
          "text": [
            "Epoch 1/50\n",
            "313/313 [==============================] - 5s 12ms/step - loss: 2.9086\n",
            "Epoch 2/50\n",
            "313/313 [==============================] - 4s 11ms/step - loss: 2.2922\n",
            "Epoch 3/50\n",
            "313/313 [==============================] - 4s 11ms/step - loss: 2.1362\n",
            "Epoch 4/50\n",
            "313/313 [==============================] - 4s 11ms/step - loss: 2.0505\n",
            "Epoch 5/50\n",
            "313/313 [==============================] - 4s 11ms/step - loss: 1.9937\n",
            "Epoch 6/50\n",
            "313/313 [==============================] - 4s 11ms/step - loss: 1.9562\n",
            "Epoch 7/50\n",
            "313/313 [==============================] - 4s 12ms/step - loss: 1.9260\n",
            "Epoch 8/50\n",
            "313/313 [==============================] - 4s 11ms/step - loss: 1.9032\n",
            "Epoch 9/50\n",
            "313/313 [==============================] - 4s 11ms/step - loss: 1.8824\n",
            "Epoch 10/50\n",
            "313/313 [==============================] - 4s 11ms/step - loss: 1.8656\n",
            "Epoch 11/50\n",
            "313/313 [==============================] - 4s 11ms/step - loss: 1.8539\n",
            "Epoch 12/50\n",
            "313/313 [==============================] - 4s 11ms/step - loss: 1.8436\n",
            "Epoch 13/50\n",
            "313/313 [==============================] - 4s 12ms/step - loss: 1.8328\n",
            "Epoch 14/50\n",
            "313/313 [==============================] - 4s 11ms/step - loss: 1.8257\n",
            "Epoch 15/50\n",
            "313/313 [==============================] - 4s 11ms/step - loss: 1.8158\n",
            "Epoch 16/50\n",
            "313/313 [==============================] - 4s 11ms/step - loss: 1.8088\n",
            "Epoch 17/50\n",
            "313/313 [==============================] - 4s 11ms/step - loss: 1.8034\n",
            "Epoch 18/50\n",
            "313/313 [==============================] - 4s 11ms/step - loss: 1.7951\n",
            "Epoch 19/50\n",
            "313/313 [==============================] - 3s 11ms/step - loss: 1.7898\n",
            "Epoch 20/50\n",
            "313/313 [==============================] - 4s 11ms/step - loss: 1.7856\n",
            "Epoch 21/50\n",
            "313/313 [==============================] - 4s 11ms/step - loss: 1.7804\n",
            "Epoch 22/50\n",
            "313/313 [==============================] - 4s 11ms/step - loss: 1.7737\n",
            "Epoch 23/50\n",
            "313/313 [==============================] - 4s 11ms/step - loss: 1.7728\n",
            "Epoch 24/50\n",
            "313/313 [==============================] - 4s 11ms/step - loss: 1.7673\n",
            "Epoch 25/50\n",
            "313/313 [==============================] - 4s 11ms/step - loss: 1.7662\n",
            "Epoch 26/50\n",
            "313/313 [==============================] - 4s 11ms/step - loss: 1.7618\n",
            "Epoch 27/50\n",
            "313/313 [==============================] - 4s 12ms/step - loss: 1.7600\n",
            "Epoch 28/50\n",
            "313/313 [==============================] - 4s 12ms/step - loss: 1.7530\n",
            "Epoch 29/50\n",
            "313/313 [==============================] - 4s 12ms/step - loss: 1.7515\n",
            "Epoch 30/50\n",
            "313/313 [==============================] - 4s 12ms/step - loss: 1.7467\n",
            "Epoch 31/50\n",
            "313/313 [==============================] - 4s 11ms/step - loss: 1.7490\n",
            "Epoch 32/50\n",
            "313/313 [==============================] - 4s 11ms/step - loss: 1.7441\n",
            "Epoch 33/50\n",
            "313/313 [==============================] - 4s 11ms/step - loss: 1.7414\n",
            "Epoch 34/50\n",
            "313/313 [==============================] - 4s 11ms/step - loss: 1.7378\n",
            "Epoch 35/50\n",
            "313/313 [==============================] - 4s 12ms/step - loss: 1.7365\n",
            "Epoch 36/50\n",
            "313/313 [==============================] - 4s 11ms/step - loss: 1.7349\n",
            "Epoch 37/50\n",
            "313/313 [==============================] - 4s 11ms/step - loss: 1.7323\n",
            "Epoch 38/50\n",
            "313/313 [==============================] - 4s 12ms/step - loss: 1.7312\n",
            "Epoch 39/50\n",
            "313/313 [==============================] - 4s 11ms/step - loss: 1.7293\n",
            "Epoch 40/50\n",
            "313/313 [==============================] - 4s 11ms/step - loss: 1.7273\n",
            "Epoch 41/50\n",
            "313/313 [==============================] - 4s 11ms/step - loss: 1.7263\n",
            "Epoch 42/50\n",
            "313/313 [==============================] - 4s 11ms/step - loss: 1.7249\n",
            "Epoch 43/50\n",
            "313/313 [==============================] - 4s 11ms/step - loss: 1.7201\n",
            "Epoch 44/50\n",
            "313/313 [==============================] - 4s 11ms/step - loss: 1.7195\n",
            "Epoch 45/50\n",
            "313/313 [==============================] - 4s 12ms/step - loss: 1.7188\n",
            "Epoch 46/50\n",
            "313/313 [==============================] - 4s 12ms/step - loss: 1.7196\n",
            "Epoch 47/50\n",
            "313/313 [==============================] - 4s 11ms/step - loss: 1.7174\n",
            "Epoch 48/50\n",
            "313/313 [==============================] - 4s 11ms/step - loss: 1.7142\n",
            "Epoch 49/50\n",
            "313/313 [==============================] - 4s 11ms/step - loss: 1.7144\n",
            "Epoch 50/50\n",
            "313/313 [==============================] - 4s 12ms/step - loss: 1.7131\n"
          ],
          "name": "stdout"
        }
      ]
    },
    {
      "cell_type": "markdown",
      "metadata": {
        "id": "h-mj38nLYXNe"
      },
      "source": [
        "## 감성 분석"
      ]
    },
    {
      "cell_type": "code",
      "metadata": {
        "colab": {
          "base_uri": "https://localhost:8080/"
        },
        "id": "8SsscwJ0W2co",
        "outputId": "4dcff2f9-d114-4b65-ba4e-0b7469b47874"
      },
      "source": [
        "(X_train, y_train) , (X_test, y_test) = keras.datasets.imdb.load_data()\r\n",
        "X_train[0][:10]\r\n",
        "# X_train 은 리뷰들의 리스트이다.\r\n",
        "# 각 리뷰는 넘파이 정수 배열로 표현된다.\r\n",
        "# (각 정수는 하나의 단어를 나타낸다.)\r\n",
        "\r\n",
        "# 구두점을 모두 제거하고, 단어는 소문자로 변환한 다음 공백으로 나누어\r\n",
        "## 빈도에 따라 인덱스를 붙였다. ==> 낮은 정수가 자주 등장하는 단어에 해당한다.\r\n",
        "\r\n",
        "# 정수 0, 1, 2는 각각 패딩토큰 , SOS 토큰, 알 수없는 단어를 의미한다."
      ],
      "execution_count": 35,
      "outputs": [
        {
          "output_type": "stream",
          "text": [
            "Downloading data from https://storage.googleapis.com/tensorflow/tf-keras-datasets/imdb.npz\n",
            "17465344/17464789 [==============================] - 0s 0us/step\n"
          ],
          "name": "stdout"
        },
        {
          "output_type": "stream",
          "text": [
            "<string>:6: VisibleDeprecationWarning: Creating an ndarray from ragged nested sequences (which is a list-or-tuple of lists-or-tuples-or ndarrays with different lengths or shapes) is deprecated. If you meant to do this, you must specify 'dtype=object' when creating the ndarray\n",
            "/usr/local/lib/python3.6/dist-packages/tensorflow/python/keras/datasets/imdb.py:159: VisibleDeprecationWarning: Creating an ndarray from ragged nested sequences (which is a list-or-tuple of lists-or-tuples-or ndarrays with different lengths or shapes) is deprecated. If you meant to do this, you must specify 'dtype=object' when creating the ndarray\n",
            "  x_train, y_train = np.array(xs[:idx]), np.array(labels[:idx])\n",
            "/usr/local/lib/python3.6/dist-packages/tensorflow/python/keras/datasets/imdb.py:160: VisibleDeprecationWarning: Creating an ndarray from ragged nested sequences (which is a list-or-tuple of lists-or-tuples-or ndarrays with different lengths or shapes) is deprecated. If you meant to do this, you must specify 'dtype=object' when creating the ndarray\n",
            "  x_test, y_test = np.array(xs[idx:]), np.array(labels[idx:])\n"
          ],
          "name": "stderr"
        },
        {
          "output_type": "execute_result",
          "data": {
            "text/plain": [
              "[1, 14, 22, 16, 43, 530, 973, 1622, 1385, 65]"
            ]
          },
          "metadata": {
            "tags": []
          },
          "execution_count": 35
        }
      ]
    },
    {
      "cell_type": "code",
      "metadata": {
        "colab": {
          "base_uri": "https://localhost:8080/",
          "height": 71
        },
        "id": "tA-olkFgYfKm",
        "outputId": "25dd79c1-e6f8-49a8-f8bc-abdafdb402ae"
      },
      "source": [
        "word_index = keras.datasets.imdb.get_word_index()\r\n",
        "id_to_word = {id_ + 3: word for word, id_ in word_index.items()}\r\n",
        "for id_, token in enumerate((\"<pad>\", \"<sos>\", \"<unk>\")):\r\n",
        "    id_to_word[id_] = token\r\n",
        "\" \".join([id_to_word[id_] for id_ in X_train[0][:10]])"
      ],
      "execution_count": 36,
      "outputs": [
        {
          "output_type": "stream",
          "text": [
            "Downloading data from https://storage.googleapis.com/tensorflow/tf-keras-datasets/imdb_word_index.json\n",
            "1646592/1641221 [==============================] - 0s 0us/step\n"
          ],
          "name": "stdout"
        },
        {
          "output_type": "execute_result",
          "data": {
            "application/vnd.google.colaboratory.intrinsic+json": {
              "type": "string"
            },
            "text/plain": [
              "'<sos> this film was just brilliant casting location scenery story'"
            ]
          },
          "metadata": {
            "tags": []
          },
          "execution_count": 36
        }
      ]
    },
    {
      "cell_type": "code",
      "metadata": {
        "id": "SK5LJS1RZOjG"
      },
      "source": [
        "import tensorflow_datasets as tfds\r\n",
        "\r\n",
        "datasets, info = tfds.load('imdb_reviews', as_supervised=True, with_info = True)"
      ],
      "execution_count": null,
      "outputs": []
    },
    {
      "cell_type": "code",
      "metadata": {
        "id": "FwFqhJVWaP12"
      },
      "source": [
        "train_size = info.splits['train'].num_examples\r\n",
        "test_size = info.splits[\"test\"].num_examples"
      ],
      "execution_count": 39,
      "outputs": []
    },
    {
      "cell_type": "code",
      "metadata": {
        "colab": {
          "base_uri": "https://localhost:8080/"
        },
        "id": "if8F3yItaV4u",
        "outputId": "d9b6ccb2-c067-48d6-8338-d4ece8337009"
      },
      "source": [
        "print(train_size)\r\n",
        "print(test_size)"
      ],
      "execution_count": 41,
      "outputs": [
        {
          "output_type": "stream",
          "text": [
            "25000\n",
            "25000\n"
          ],
          "name": "stdout"
        }
      ]
    },
    {
      "cell_type": "code",
      "metadata": {
        "id": "T5hjm-6wZ8Ie"
      },
      "source": [
        "def preprocess(X_batch, y_batch):\r\n",
        "    X_batch = tf.strings.substr(X_batch,0 , 300)\r\n",
        "    # 처음 300글자만 남긴다. => 훈련 속도를 높일 수 있다.\r\n",
        "    X_batch = tf.strings.regex_replace(X_batch, b\"<br\\\\s*/?>\", b\" \")\r\n",
        "    # <br /> 을 공백으로 바꾼다.\r\n",
        "    X_batch = tf.strings.regex_replace(X_batch, b\"[^a-zA-Z]\", b\" \")\r\n",
        "    # 문자가 아닌 다른 모든 문자를 공백으로 바꾼다.\r\n",
        "    X_batch = tf.strings.split(X_batch)\r\n",
        "    # 리뷰를 공백으로 나눈다.\r\n",
        "    return X_batch.to_tensor(default_value=b\"<pad>\"), y_batch"
      ],
      "execution_count": 43,
      "outputs": []
    },
    {
      "cell_type": "code",
      "metadata": {
        "id": "L1xL1420amht"
      },
      "source": [
        "from collections import Counter\r\n",
        "vocabulary = Counter()\r\n",
        "for X_batch, y_batch in datasets['train'].batch(32).map(preprocess):\r\n",
        "    for review in X_batch:\r\n",
        "        vocabulary.update(list(review.numpy()))"
      ],
      "execution_count": 44,
      "outputs": []
    },
    {
      "cell_type": "code",
      "metadata": {
        "colab": {
          "base_uri": "https://localhost:8080/"
        },
        "id": "qwGvxMT_bXwO",
        "outputId": "0b9480b6-f13c-4b4c-d41b-a97709afcba5"
      },
      "source": [
        "vocabulary.most_common()[:3]"
      ],
      "execution_count": 45,
      "outputs": [
        {
          "output_type": "execute_result",
          "data": {
            "text/plain": [
              "[(b'<pad>', 224494), (b'the', 61156), (b'a', 38569)]"
            ]
          },
          "metadata": {
            "tags": []
          },
          "execution_count": 45
        }
      ]
    },
    {
      "cell_type": "code",
      "metadata": {
        "id": "5qN9Xr-bbdHP"
      },
      "source": [
        "vocab_size = 10000\r\n",
        "truncated_vocabulary = [\r\n",
        "    word for word, count in vocabulary.most_common()[: vocab_size]\r\n",
        "]"
      ],
      "execution_count": 47,
      "outputs": []
    },
    {
      "cell_type": "code",
      "metadata": {
        "id": "Jwan6heZbm9-"
      },
      "source": [
        "words = tf.constant(truncated_vocabulary)\r\n",
        "word_ids = tf.range(len(truncated_vocabulary), dtype=tf.int64)\r\n",
        "vocab_init = tf.lookup.KeyValueTensorInitializer(words, word_ids)\r\n",
        "num_oov_buckets = 1000\r\n",
        "table = tf.lookup.StaticVocabularyTable(vocab_init, num_oov_buckets)"
      ],
      "execution_count": 49,
      "outputs": []
    },
    {
      "cell_type": "code",
      "metadata": {
        "colab": {
          "base_uri": "https://localhost:8080/"
        },
        "id": "a3UHFdSgcDxw",
        "outputId": "3c7e7d9f-44e9-4eaf-b42f-5245e661a42a"
      },
      "source": [
        "table.lookup(tf.constant([b'this movie was faaaaaaaaaantasitc'.split()]))"
      ],
      "execution_count": 50,
      "outputs": [
        {
          "output_type": "execute_result",
          "data": {
            "text/plain": [
              "<tf.Tensor: shape=(1, 4), dtype=int64, numpy=array([[   10,    12,    13, 10977]])>"
            ]
          },
          "metadata": {
            "tags": []
          },
          "execution_count": 50
        }
      ]
    },
    {
      "cell_type": "code",
      "metadata": {
        "id": "ZdcA85DhcMnu"
      },
      "source": [
        "def encode_words(X_batch, y_batch):\r\n",
        "    return table.lookup(X_batch), y_batch\r\n",
        "\r\n",
        "train_set = datasets['train'].repeat().batch(32).map(preprocess)\r\n",
        "train_set = train_set.map(encode_words).prefetch(1)"
      ],
      "execution_count": 54,
      "outputs": []
    },
    {
      "cell_type": "code",
      "metadata": {
        "colab": {
          "base_uri": "https://localhost:8080/"
        },
        "id": "1r6ALWvrfOru",
        "outputId": "aaa3f039-cd44-4ef0-e1d5-148b51ea11ce"
      },
      "source": [
        "embed_size = 128\r\n",
        "model = keras.models.Sequential([\r\n",
        "    keras.layers.Embedding(vocab_size + num_oov_buckets, embed_size,\r\n",
        "                           mask_zero=True,\r\n",
        "                           input_shape=[None]),\r\n",
        "    keras.layers.GRU(128, return_sequences=True),\r\n",
        "    keras.layers.GRU(128),\r\n",
        "    keras.layers.Dense(1, activation=\"sigmoid\")\r\n",
        "    # 리뷰가 영화에 대한 긍정적인 감정을 표현하는지에 대한 추정 확률\r\n",
        "])\r\n",
        "model.compile(loss=\"binary_crossentropy\", optimizer=\"adam\", metrics=[\"accuracy\"])\r\n",
        "history = model.fit(train_set, steps_per_epoch=train_size // 32, epochs=5)"
      ],
      "execution_count": 55,
      "outputs": [
        {
          "output_type": "stream",
          "text": [
            "Epoch 1/5\n",
            "781/781 [==============================] - 31s 31ms/step - loss: 0.6099 - accuracy: 0.6358\n",
            "Epoch 2/5\n",
            "781/781 [==============================] - 24s 31ms/step - loss: 0.3739 - accuracy: 0.8366\n",
            "Epoch 3/5\n",
            "781/781 [==============================] - 24s 31ms/step - loss: 0.2121 - accuracy: 0.9187\n",
            "Epoch 4/5\n",
            "781/781 [==============================] - 24s 31ms/step - loss: 0.1477 - accuracy: 0.9475\n",
            "Epoch 5/5\n",
            "781/781 [==============================] - 24s 31ms/step - loss: 0.1001 - accuracy: 0.9634\n"
          ],
          "name": "stdout"
        }
      ]
    },
    {
      "cell_type": "markdown",
      "metadata": {
        "id": "DTwniM0gglOD"
      },
      "source": [
        "### 마스킹"
      ]
    },
    {
      "cell_type": "code",
      "metadata": {
        "id": "iuxKUQ--fZX2"
      },
      "source": [
        "# 무시할 토큰을 알고 있다면 해당 토큰을 무시하도록 모델에게 알려주어\r\n",
        "# 실제 의미가 있는 데이터에 집중할 수 있게 만든다.\r\n",
        "# => Embedding 층이 keras.backend.not_equal(inputs, 0) 와 같은 마스크 텐서를 만든다.\r\n",
        "# => 이 텐서는 입력과 크기가 같은 boolean 텐서이다.\r\n",
        "# => ID가 0인 위치는 False 이고, 나머지는 True 이다.\r\n",
        "\r\n",
        "# 이 마스크 텐서는 모델에 의해 이어지는 모든 층에 타임 스탭 차원이 유지되는 한 자동으로 전파된다."
      ],
      "execution_count": null,
      "outputs": []
    },
    {
      "cell_type": "code",
      "metadata": {
        "colab": {
          "base_uri": "https://localhost:8080/"
        },
        "id": "j1fuRqRlh379",
        "outputId": "87926dd3-dc02-4328-90ca-63c3fd9a7733"
      },
      "source": [
        "K = keras.backend\r\n",
        "embed_size = 128\r\n",
        "inputs = keras.layers.Input(shape=[None])\r\n",
        "mask = keras.layers.Lambda(lambda inputs: K.not_equal(inputs, 0))(inputs)\r\n",
        "z = keras.layers.Embedding(vocab_size + num_oov_buckets, embed_size)(inputs)\r\n",
        "z = keras.layers.GRU(128, return_sequences=True)(z, mask=mask)\r\n",
        "z = keras.layers.GRU(128)(z, mask=mask)\r\n",
        "outputs = keras.layers.Dense(1, activation=\"sigmoid\")(z)\r\n",
        "model = keras.models.Model(inputs=[inputs], outputs=[outputs])\r\n",
        "model.compile(loss=\"binary_crossentropy\", optimizer=\"adam\", metrics=[\"accuracy\"])\r\n",
        "history = model.fit(train_set, steps_per_epoch=train_size // 32, epochs=5)"
      ],
      "execution_count": 56,
      "outputs": [
        {
          "output_type": "stream",
          "text": [
            "Epoch 1/5\n",
            "781/781 [==============================] - 30s 31ms/step - loss: 0.6038 - accuracy: 0.6393\n",
            "Epoch 2/5\n",
            "781/781 [==============================] - 24s 31ms/step - loss: 0.3726 - accuracy: 0.8383\n",
            "Epoch 3/5\n",
            "781/781 [==============================] - 24s 31ms/step - loss: 0.2102 - accuracy: 0.9202\n",
            "Epoch 4/5\n",
            "781/781 [==============================] - 24s 31ms/step - loss: 0.1363 - accuracy: 0.9524\n",
            "Epoch 5/5\n",
            "781/781 [==============================] - 24s 31ms/step - loss: 0.1082 - accuracy: 0.9619\n"
          ],
          "name": "stdout"
        }
      ]
    },
    {
      "cell_type": "markdown",
      "metadata": {
        "id": "TrP8Jg4BioXt"
      },
      "source": [
        "### 사전훈련된 임베딩 재사용하기"
      ]
    },
    {
      "cell_type": "code",
      "metadata": {
        "id": "rQ0-Qm5ch4M2"
      },
      "source": [
        "import tensorflow_hub as hub\r\n",
        "\r\n",
        "model = keras.Sequential([\r\n",
        "    hub.KerasLayer('https://tfhub.dev/google/tf2-preview/nnlm-en-dim50/1',\r\n",
        "                   dtype=tf.string, input_shape = [], output_shape=[50]),\r\n",
        "    keras.layers.Dense(128, activation='relu'),\r\n",
        "    keras.layers.Dense(1, activation='sigmoid')\r\n",
        "])\r\n",
        "\r\n",
        "model.compile(loss='binary_crossentropy', optimizer='adam', metrics=['accuracy'])"
      ],
      "execution_count": 58,
      "outputs": []
    },
    {
      "cell_type": "code",
      "metadata": {
        "colab": {
          "base_uri": "https://localhost:8080/"
        },
        "id": "PtEC_u62jEVe",
        "outputId": "0fcf2765-d1da-4973-d53a-6cb2ebde3f75"
      },
      "source": [
        "import tensorflow_datasets as tfds\r\n",
        "\r\n",
        "datasets, info = tfds.load(\"imdb_reviews\", as_supervised=True, with_info=True)\r\n",
        "train_size = info.splits[\"train\"].num_examples\r\n",
        "batch_size = 32\r\n",
        "train_set = datasets[\"train\"].repeat().batch(batch_size).prefetch(1)\r\n",
        "history = model.fit(train_set, steps_per_epoch=train_size // batch_size, epochs=5)"
      ],
      "execution_count": 59,
      "outputs": [
        {
          "output_type": "stream",
          "text": [
            "Epoch 1/5\n",
            "781/781 [==============================] - 5s 5ms/step - loss: 0.5844 - accuracy: 0.6944\n",
            "Epoch 2/5\n",
            "781/781 [==============================] - 4s 5ms/step - loss: 0.5209 - accuracy: 0.7433\n",
            "Epoch 3/5\n",
            "781/781 [==============================] - 4s 5ms/step - loss: 0.5146 - accuracy: 0.7462\n",
            "Epoch 4/5\n",
            "781/781 [==============================] - 4s 5ms/step - loss: 0.5106 - accuracy: 0.7504\n",
            "Epoch 5/5\n",
            "781/781 [==============================] - 4s 5ms/step - loss: 0.5073 - accuracy: 0.7517\n"
          ],
          "name": "stdout"
        }
      ]
    },
    {
      "cell_type": "code",
      "metadata": {
        "id": "IZ1Xo4s1j06N"
      },
      "source": [
        ""
      ],
      "execution_count": null,
      "outputs": []
    }
  ]
}